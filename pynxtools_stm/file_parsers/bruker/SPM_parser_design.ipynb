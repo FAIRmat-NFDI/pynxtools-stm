{
 "cells": [
  {
   "cell_type": "markdown",
   "id": "ec8a7695-e697-423c-9fa1-f10ba9c88a59",
   "metadata": {},
   "source": [
    "# Design of SPM parsers"
   ]
  },
  {
   "cell_type": "markdown",
   "id": "0fa8f474-0418-4e03-a149-4c4733c3579b",
   "metadata": {},
   "source": [
    "## Structure\n",
    "```txt\n",
    "--src\n",
    "    --pnyxtools-spm\n",
    "        --parsers\n",
    "            --utils.py\n",
    "            --bruker.py\n",
    "            --nanonis.py\n",
    "        --nxformats\n",
    "            --formatter.py\n",
    "            --fromBruker.py\n",
    "            --fromnanonis.py\n",
    "            --utils.py\n",
    "        reader.py\n",
    "    --tests\n",
    "```"
   ]
  },
  {
   "cell_type": "markdown",
   "id": "66e975c0-8dd0-47dd-9037-6debdb63f7bb",
   "metadata": {},
   "source": [
    "### python file design\n",
    "\n",
    "# TODO: Question for: Does the inheritance from ABCclass also inherits the docs from abstract method as well\n",
    "```python\n",
    "from typing import Dict, Union\n",
    "from path import Path\n",
    "\n",
    "class SPMformater(ABC):\n",
    "    def __init__(self, \n",
    "                 raw_file: Union[str, Path],\n",
    "                 eln_dict: Dict,\n",
    "                 config_dict: Optional[Dict] = None, # Incase it is not provided by users\n",
    "                 data_dict: Optional[Dict] = None\n",
    "                )\n",
    "        self.eln: Dict = eln_dict\n",
    "        self.conf: Dict = config_dict | self.__get_conf_dict()\n",
    "        selt.raw_data: Dict = data_dict | self.__get_\n",
    "\n",
    "    @abstructmethod\n",
    "    def __get_conf_dict(self):\n",
    "        ...\n",
    "    @abstructmethod\n",
    "    def __get_raw_data_dict(self):\n",
    "        ...\n",
    "    @abstructmethod\n",
    "    def __construct_nxdata(self)\n",
    "        ...\n",
    "    @abstructmethod\n",
    "    def __construct_scan_controlers(self):\n",
    "        \n",
    "        \n",
    "```"
   ]
  }
 ],
 "metadata": {
  "kernelspec": {
   "display_name": "Python 3 (ipykernel)",
   "language": "python",
   "name": "python3"
  },
  "language_info": {
   "codemirror_mode": {
    "name": "ipython",
    "version": 3
   },
   "file_extension": ".py",
   "mimetype": "text/x-python",
   "name": "python",
   "nbconvert_exporter": "python",
   "pygments_lexer": "ipython3",
   "version": "3.10.12"
  }
 },
 "nbformat": 4,
 "nbformat_minor": 5
}
