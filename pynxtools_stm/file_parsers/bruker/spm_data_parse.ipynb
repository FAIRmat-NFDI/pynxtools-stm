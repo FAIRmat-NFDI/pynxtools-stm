{
 "cells": [
  {
   "cell_type": "code",
   "execution_count": 6,
   "id": "f557b7cd-f9ea-424a-833b-d3c09c01d27c",
   "metadata": {},
   "outputs": [],
   "source": [
    "AFM_template = {\n",
    "    \"/ENTRY[entry]/INSTRUMENT[instrument]\": \"None\",\n",
    "    \"/ENTRY[entry]/INSTRUMENT[instrument]/CANTILEVER_SPM[cantilever_spm]/\": \"None\",\n",
    "    \"/ENTRY[entry]/INSTRUMENT[instrument]/CANTILEVER_SPM[cantilever_spm]\": \"None\",\n",
    "    \"/ENTRY[entry]/INSTRUMENT[instrument]/CANTILEVER_SPM[cantilever_spm]\": \"None\",\n",
    "    \"/ENTRY[entry]/INSTRUMENT[instrument]/CANTILEVER_SPM[cantilever_spm]\": \"None\",\n",
    "    \"/ENTRY[entry]/INSTRUMENT[instrument]/ENVIRONMENT[environment]\": \"None\",\n",
    "    \"/ENTRY[entry]/INSTRUMENT[instrument]/ENVIRONMENT[environment]/XY_piezo_sensor/calibration_time\": \"None\",\n",
    "    \"/ENTRY[entry]/INSTRUMENT[instrument]/ENVIRONMENT[environment]/XY_piezo_sensor/value\": \"None\",\n",
    "    \"/ENTRY[entry]/INSTRUMENT[instrument]/ENVIRONMENT[environment]/XY_piezo_sensor/value/@units\": \"None\",\n",
    "    \"/ENTRY[entry]/INSTRUMENT[instrument]/ENVIRONMENT[environment]/XY_piezo_sensor[xy_piezo_sensor]\": \"None\",\n",
    "    \"/ENTRY[entry]/INSTRUMENT[instrument]/ENVIRONMENT[environment]/XY_piezo_sensor[xy_piezo_sensor]/calibration_time\": \"None\",\n",
    "    \"/ENTRY[entry]/INSTRUMENT[instrument]/ENVIRONMENT[environment]/XY_piezo_sensor[xy_piezo_sensor]/value\": \"None\",\n",
    "    \"/ENTRY[entry]/INSTRUMENT[instrument]/ENVIRONMENT[environment]/XY_piezo_sensor[xy_piezo_sensor]/value/@units\": \"None\",\n",
    "    \"/ENTRY[entry]/INSTRUMENT[instrument]/ENVIRONMENT[environment]/height_piezo_sensor\": \"None\",\n",
    "    \"/ENTRY[entry]/INSTRUMENT[instrument]/ENVIRONMENT[environment]/height_piezo_sensor/calibration_time\": \"None\",\n",
    "    \"/ENTRY[entry]/INSTRUMENT[instrument]/ENVIRONMENT[environment]/height_piezo_sensor/value\": \"None\",\n",
    "    \"/ENTRY[entry]/INSTRUMENT[instrument]/ENVIRONMENT[environment]/height_piezo_sensor/value/@units\": \"None\",\n",
    "    \"/ENTRY[entry]/INSTRUMENT[instrument]/ENVIRONMENT[environment]/independent_controllers\": \"None\",\n",
    "    \"/ENTRY[entry]/INSTRUMENT[instrument]/ENVIRONMENT[environment]/measurement_sensors\": \"None\",\n",
    "    \"/ENTRY[entry]/INSTRUMENT[instrument]/ENVIRONMENT[environment]/tip_temperature\": \"None\",\n",
    "    \"/ENTRY[entry]/INSTRUMENT[instrument]/ENVIRONMENT[environment]/tip_temperature/calibration_time\": \"None\",\n",
    "    \"/ENTRY[entry]/INSTRUMENT[instrument]/ENVIRONMENT[environment]/tip_temperature/value\": \"None\",\n",
    "    \"/ENTRY[entry]/INSTRUMENT[instrument]/ENVIRONMENT[environment]/tip_temperature/value/@units\": \"None\",\n",
    "    \"/ENTRY[entry]/INSTRUMENT[instrument]/XY_piezo_sensor[xy_piezo_sensor]\": \"None\",\n",
    "    \"/ENTRY[entry]/INSTRUMENT[instrument]/XY_piezo_sensor[xy_piezo_sensor]/PIEZO_CONFIG_SPM[piezo_config_spm]\": \"None\",\n",
    "    \"/ENTRY[entry]/INSTRUMENT[instrument]/XY_piezo_sensor[xy_piezo_sensor]/POSITIONER_SPM[positioner_spm]\": \"None\",\n",
    "    \"/ENTRY[entry]/INSTRUMENT[instrument]/XY_piezo_sensor[xy_piezo_sensor]/piezo_material\": \"None\",\n",
    "    \"/ENTRY[entry]/INSTRUMENT[instrument]/height_piezo_sensor\": \"None\",\n",
    "    \"/ENTRY[entry]/INSTRUMENT[instrument]/height_piezo_sensor/PIEZO_CONFIG_SPM[piezo_config_spm]\": \"None\",\n",
    "    \"/ENTRY[entry]/INSTRUMENT[instrument]/height_piezo_sensor/POSITIONER_SPM[positioner_spm]\": \"None\",\n",
    "    \"/ENTRY[entry]/INSTRUMENT[instrument]/height_piezo_sensor/piezo_material\": \"None\",\n",
    "    \"/ENTRY[entry]/INSTRUMENT[instrument]/photo_detector\": \"None\",\n",
    "    \"/ENTRY[entry]/INSTRUMENT[instrument]/tip_temperature\": \"None\",\n",
    "    # Note: topography data will go to the plot\n",
    "    # Currrent sensor: \n",
    "    # TODO: rename the instrument for AFM app def to experiment_instrument\n",
    "    \"/ENTRY[entry]/experiment_instrument/current_sensor/current_sensitivity\": \"/*Ciao scan list/AFM Current Sensitivity\",\n",
    "    \"/ENTRY[entry]/definition\": \"None\",\n",
    "    \"/ENTRY[entry]/definition/@version\": \"None\",\n",
    "    \"/ENTRY[entry]/scan_mode\": \"None\"\n",
    "}\n",
    "\n",
    "SPM_template = {\n",
    "    \"/ENTRY[entry]/SAMPLE[sample]\": \"None\",\n",
    "    \"/ENTRY[entry]/SAMPLE[sample]/name\": \"None\",\n",
    "    \"/ENTRY[entry]/SAMPLE[sample]/sample_environment\": \"None\",\n",
    "    \"/ENTRY[entry]/SAMPLE[sample]/sample_environment/sample_bias_voltage\": \"None\",\n",
    "    \"/ENTRY[entry]/definition\": \"None\",\n",
    "    \"/ENTRY[entry]/definition/@version\": \"None\",\n",
    "    \"/ENTRY[entry]/experiment_insturment/ENVIRONMENT[environment]\": \"None\",\n",
    "    \"/ENTRY[entry]/experiment_insturment/ENVIRONMENT[environment]/SCAN_CONTROL[scan_control]\": \"None\",\n",
    "    \"/ENTRY[entry]/experiment_insturment/ENVIRONMENT[environment]/current_sensor\": \"None\",\n",
    "    \"/ENTRY[entry]/experiment_insturment/ENVIRONMENT[environment]/current_sensor/calibration_time\": \"None\",\n",
    "    \"/ENTRY[entry]/experiment_insturment/ENVIRONMENT[environment]/current_sensor/value\": \"None\",\n",
    "    \"/ENTRY[entry]/experiment_insturment/ENVIRONMENT[environment]/current_sensor/value/@units\": \"None\",\n",
    "    \"/ENTRY[entry]/experiment_insturment/ENVIRONMENT[environment]/independent_controllers\": \"None\",\n",
    "    \"/ENTRY[entry]/experiment_insturment/ENVIRONMENT[environment]/measurement_sensors\": \"None\",\n",
    "    \"/ENTRY[entry]/experiment_insturment/ENVIRONMENT[environment]/piazo_sensor\": \"None\",\n",
    "    \"/ENTRY[entry]/experiment_insturment/ENVIRONMENT[environment]/piazo_sensor/calibration_time\": \"None\",\n",
    "    \"/ENTRY[entry]/experiment_insturment/ENVIRONMENT[environment]/piazo_sensor/value\": \"None\",\n",
    "    \"/ENTRY[entry]/experiment_insturment/ENVIRONMENT[environment]/piazo_sensor/value/@units\": \"None\",\n",
    "    \"/ENTRY[entry]/experiment_insturment/ENVIRONMENT[environment]/volatage_sensor\": \"None\",\n",
    "    \"/ENTRY[entry]/experiment_insturment/ENVIRONMENT[environment]/volatage_sensor/calibration_time\": \"None\",\n",
    "    \"/ENTRY[entry]/experiment_insturment/ENVIRONMENT[environment]/volatage_sensor/value\": \"None\",\n",
    "    \"/ENTRY[entry]/experiment_insturment/ENVIRONMENT[environment]/volatage_sensor/value/@units\": \"None\",\n",
    "    \"/ENTRY[entry]/experiment_insturment/LOCKIN[lockin]\": \"None\",\n",
    "    \"/ENTRY[entry]/experiment_insturment/TEMPERATURE[temperature]/CHANNEL_temp[channel_temp]\": \"None\",\n",
    "    \"/ENTRY[entry]/experiment_insturment/TEMPERATURE[temperature]/temperature\": \"None\",\n",
    "    \"/ENTRY[entry]/experiment_insturment/TEMPERATURE[temperature]/temperature/@units\": \"None\",\n",
    "    \"/ENTRY[entry]/experiment_insturment/TEMPERATURE[temperature]/temperature_calibration/caliberation_time\": \"None\",\n",
    "    \"/ENTRY[entry]/experiment_insturment/TEMPERATURE[temperature]/temperature_calibration/caliberation_time/@units\": \"None\",\n",
    "    \"/ENTRY[entry]/experiment_insturment/TEMPERATURE[temperature]/temperature_calibration/coefficients\": \"None\",\n",
    "    \"/ENTRY[entry]/experiment_insturment/TEMPERATURE[temperature]/temperature_calibration/coefficients/@units\": \"None\",\n",
    "    \"/ENTRY[entry]/experiment_insturment/current_sensor\": \"None\",\n",
    "    \"/ENTRY[entry]/experiment_insturment/current_sensor/AMPLIFIER[amplifier]\": \"None\",\n",
    "    \"/ENTRY[entry]/experiment_insturment/hardware/model\": \"None\",\n",
    "    \"/ENTRY[entry]/experiment_insturment/hardware/model/@version\": \"None\",\n",
    "    \"/ENTRY[entry]/experiment_insturment/hardware/vendor\": \"None\",\n",
    "    \"/ENTRY[entry]/experiment_insturment/piazo_sensor\": \"None\",\n",
    "    \"/ENTRY[entry]/experiment_insturment/piazo_sensor/PIEZO_CONFIG_SPM[piezo_config_spm]\": \"None\",\n",
    "    \"/ENTRY[entry]/experiment_insturment/piazo_sensor/POSITIONER_SPM[positioner_spm]\": \"None\",\n",
    "    \"/ENTRY[entry]/experiment_insturment/piazo_sensor/piezo_material\": \"None\",\n",
    "    \"/ENTRY[entry]/experiment_insturment/real_time_controller\": \"None\",\n",
    "    \"/ENTRY[entry]/experiment_insturment/sample_bias_votage/bias_calibration/caliberation_time\": \"None\",\n",
    "    \"/ENTRY[entry]/experiment_insturment/sample_bias_votage/bias_calibration/caliberation_time/@units\": \"None\",\n",
    "    \"/ENTRY[entry]/experiment_insturment/sample_bias_votage/bias_calibration/coefficients\": \"None\",\n",
    "    \"/ENTRY[entry]/experiment_insturment/sample_bias_votage/bias_calibration/coefficients/@units\": \"None\",\n",
    "    \"/ENTRY[entry]/experiment_insturment/sample_bias_votage/bias_offset\": \"None\",\n",
    "    \"/ENTRY[entry]/experiment_insturment/sample_bias_votage/bias_offset/@units\": \"None\",\n",
    "    \"/ENTRY[entry]/experiment_insturment/sample_bias_votage/bias_voltage\": \"None\",\n",
    "    \"/ENTRY[entry]/experiment_insturment/sample_bias_votage/bias_voltage/@units\": \"None\",\n",
    "    \"/ENTRY[entry]/experiment_insturment/software/model\": \"None\",\n",
    "    \"/ENTRY[entry]/experiment_insturment/software/model/@version\": \"None\",\n",
    "    \"/ENTRY[entry]/experiment_insturment/software/vendor\": \"None\",\n",
    "    \"/ENTRY[entry]/experiment_insturment/volatage_sensor\": \"None\",\n",
    "    \"/ENTRY[entry]/experiment_insturment/volatage_sensor/AMPLIFIER[amplifier]\": \"None\",\n",
    "    \"/ENTRY[entry]/reproducibility_indicators\": \"None\",\n",
    "    \"/ENTRY[entry]/resolution_indicators\": \"None\",\n",
    "    \"/ENTRY[entry]/scan_mode\": \"None\"\n",
    "}\n",
    "    "
   ]
  },
  {
   "cell_type": "code",
   "execution_count": 7,
   "id": "3222f19e-6e90-45f5-aa71-da68cdc3666b",
   "metadata": {},
   "outputs": [
    {
     "data": {
      "text/plain": [
       "True"
      ]
     },
     "execution_count": 7,
     "metadata": {},
     "output_type": "execute_result"
    }
   ],
   "source": [
    "import os\n",
    "\n",
    "\n",
    "file = \"/home/rubel/NOMAD-FAIRmat/GH/pynxtools-stm/tests/new_data/SPM_from_tamas/VGEP-15m-.0_00000.spm\"\n",
    "\n",
    "os.path.isfile(file)"
   ]
  },
  {
   "cell_type": "code",
   "execution_count": null,
   "id": "5c0d685f-2faa-476a-9c15-481eb21b9868",
   "metadata": {},
   "outputs": [],
   "source": []
  },
  {
   "cell_type": "code",
   "execution_count": 8,
   "id": "e1158d3a-e353-4ffe-b442-c5b5a4342eea",
   "metadata": {},
   "outputs": [],
   "source": [
    "from pynxtools_stm.file_parsers.bruker.brukerSPM import BrukerSPM\n",
    "import numpy as np"
   ]
  },
  {
   "cell_type": "code",
   "execution_count": 9,
   "id": "9744e673-f675-4601-90d5-0adceac82bd8",
   "metadata": {},
   "outputs": [],
   "source": [
    "bkr = BrukerSPM(file)"
   ]
  },
  {
   "cell_type": "code",
   "execution_count": 77,
   "id": "aa7a0366-daf4-4dbc-9a9c-8bd290a838c4",
   "metadata": {},
   "outputs": [
    {
     "name": "stdout",
     "output_type": "stream",
     "text": [
      "Channels\n",
      "========\n",
      "@2:Image Data: S [ZSensor] \"Height Sensor\"\n",
      "@2:Image Data: S [AmplitudeError] \"Amplitude Error\"\n",
      "@2:Image Data: S [Phase] \"Phase\"\n",
      "@2:Image Data: S [ZSensor] \"Height Sensor\"\n",
      "@2:Image Data: S [AmplitudeError] \"Amplitude Error\"\n",
      "@2:Image Data: S [Phase] \"Phase\"\n",
      "@2:Image Data: S [AmplitudeActual] \"Amplitude\"\n",
      "@2:Image Data: S [DeflectionActual] \"TM Deflection\"\n"
     ]
    }
   ],
   "source": [
    "metadata = bkr.parsed_data\n",
    "metadata_list = [(key, val) for key, val in metadata.items()]\n",
    "layer_list = bkr.layers # 8 layers\n",
    "scanner_list = bkr.scanners # 1 scanners\n",
    "channel_list = bkr.list_channels()\n"
   ]
  },
  {
   "cell_type": "code",
   "execution_count": 93,
   "id": "cbf2083f-0712-45b9-8d6f-c1f5d4c891ed",
   "metadata": {},
   "outputs": [],
   "source": [
    "# sensitivity unit\n",
    "\n",
    "unit_tuple_list = list(filter(lambda x: 'Metric' in x[0].decode().lower(), scanner_list[0].items()))\n"
   ]
  },
  {
   "cell_type": "code",
   "execution_count": 94,
   "id": "5c20182a-c956-4904-96ca-924ad4aee4a5",
   "metadata": {},
   "outputs": [
    {
     "data": {
      "text/plain": [
       "[]"
      ]
     },
     "execution_count": 94,
     "metadata": {},
     "output_type": "execute_result"
    }
   ],
   "source": [
    "unit_tuple_list"
   ]
  },
  {
   "cell_type": "code",
   "execution_count": null,
   "id": "bf4f3a86-2c5a-4276-ae29-8cee58921556",
   "metadata": {},
   "outputs": [],
   "source": [
    "bkr.get_channel_data(channel=\"Height Sensor\")#['BIN'])"
   ]
  },
  {
   "cell_type": "code",
   "execution_count": null,
   "id": "2f0515a3-d60e-45d6-be9b-c84519f984f6",
   "metadata": {},
   "outputs": [],
   "source": []
  },
  {
   "cell_type": "code",
   "execution_count": 61,
   "id": "ed3a47c7-9585-43af-8c5d-cd640babab09",
   "metadata": {},
   "outputs": [
    {
     "data": {
      "text/plain": [
       "34"
      ]
     },
     "execution_count": 61,
     "metadata": {},
     "output_type": "execute_result"
    }
   ],
   "source": [
    "scanner_list = list(filter(lambda x: ('Scanner list/' in x[0]), metadata_list))\n",
    "ciao_scan_list = list(filter(lambda x: ('Ciao scan list' in x[0]), metadata_list))\n",
    "\n",
    "image_list_N = list(filter(lambda x: '/*Ciao image list/' in x[0], metadata_list))\n",
    "len(image_list_N)"
   ]
  },
  {
   "cell_type": "code",
   "execution_count": 39,
   "id": "6448e041-58d2-4a5c-80bf-d6b9e84c0391",
   "metadata": {},
   "outputs": [
    {
     "data": {
      "text/plain": [
       "[('/*Scanner list/Scanner type', 'Dim 4000'),\n",
       " ('/*Scanner list/Head Type', 'SG'),\n",
       " ('/*Scanner list/Serial Number', '1b818'),\n",
       " ('/*Scanner list/Piezo size', 'G'),\n",
       " ('/*Scanner list/File name', '1b818.scn'),\n",
       " ('/*Scanner list/Retracted offset der', '-3.6663'),\n",
       " ('/*Scanner list/Extended offset der', '4.0997'),\n",
       " ('/*Scanner list/Allow rotation', 'Allow'),\n",
       " ('/*Scanner list/Piezo cal', '440'),\n",
       " ('/*Scanner list/X sensitivity', '144.78'),\n",
       " ('/*Scanner list/X derate', '0.178'),\n",
       " ('/*Scanner list/X mag', '0.95'),\n",
       " ('/*Scanner list/X mag1', '0.75'),\n",
       " ('/*Scanner list/X arg', '2.5'),\n",
       " ('/*Scanner list/Fast arg derate', '0'),\n",
       " ('/*Scanner list/Orthogonality', '0'),\n",
       " ('/*Scanner list/Y sensitivity', '155.9'),\n",
       " ('/*Scanner list/Y derate', '0.1425'),\n",
       " ('/*Scanner list/Y mag', '0.77'),\n",
       " ('/*Scanner list/Y mag1', '0.9'),\n",
       " ('/*Scanner list/Y arg', '3.1'),\n",
       " ('/*Scanner list/Slow arg derate', '0.005'),\n",
       " ('/*Scanner list/X slow sensitivity', '151.62'),\n",
       " ('/*Scanner list/X slow derate', '0.182'),\n",
       " ('/*Scanner list/Y fast sensitivity', '142.952'),\n",
       " ('/*Scanner list/Y fast derate', '0.1842'),\n",
       " ('/*Scanner list/X slow-fast coupling', '0.318896'),\n",
       " ('/*Scanner list/X slow-fast coupling derating', '-9.86915e-005'),\n",
       " ('/*Scanner list/Y slow-fast coupling', '0.326021'),\n",
       " ('/*Scanner list/Y slow-fast coupling derating', '-0.000147779'),\n",
       " ('/*Scanner list/Fast cal freq', '2.44141'),\n",
       " ('/*Scanner list/Slow cal freq', '4.76838'),\n",
       " ('/*Scanner list/Xs-Yf coupling', '0.0871558'),\n",
       " ('/*Scanner list/Xs-Yf coupling derating', '-0'),\n",
       " ('/*Scanner list/Ys-Xf coupling', '0.11307'),\n",
       " ('/*Scanner list/Ys-Xf coupling derating', '-0'),\n",
       " ('/*Scanner list/X offset sens', '224.9'),\n",
       " ('/*Scanner list/Y offset sens', '223.9'),\n",
       " ('/*Scanner list/Max scan size', '93'),\n",
       " ('/*Scanner list/Z min', '-220'),\n",
       " ('/*Scanner list/Z max', '110'),\n",
       " ('/*Scanner list/Z engage position', '-55'),\n",
       " ('/*Scanner list/Z to X coupling', '5'),\n",
       " ('/*Scanner list/Z to Y coupling', '0'),\n",
       " ('/*Scanner list/Z to X coupling FF', '6'),\n",
       " ('/*Scanner list/Z to Y coupling FF', '3'),\n",
       " ('/*Scanner list/StrainXY Scanner', 'Yes'),\n",
       " ('/*Scanner list/OptoXY x sensitivity', '350'),\n",
       " ('/*Scanner list/OptoXY y sensitivity', '355.1'),\n",
       " ('/*Scanner list/OptoXY orthogonality', '-0.00436332'),\n",
       " ('/*Scanner list/OptoXY x sens fitted', '352.9'),\n",
       " ('/*Scanner list/OptoXY y sens fitted', '350.3'),\n",
       " ('/*Scanner list/OptoXY orthog fitted', '-0.00349066'),\n",
       " ('/*Scanner list/OptoXY scan angle cor', '0'),\n",
       " ('/*Scanner list/OptoXY pgain/igain', '0.05'),\n",
       " ('/*Scanner list/Optoxy FitVersion', 'V1'),\n",
       " ('/*Scanner list/OptoXY xsenscal_x', '0'),\n",
       " ('/*Scanner list/OptoXY xsenscal_y', '0'),\n",
       " ('/*Scanner list/OptoXY xsenscal_xy', '0'),\n",
       " ('/*Scanner list/OptoXY xsenscal_xx', '0'),\n",
       " ('/*Scanner list/OptoXY xsenscal_yy', '0'),\n",
       " ('/*Scanner list/OptoXY xsenscal_xxy', '0'),\n",
       " ('/*Scanner list/OptoXY xsenscal_xyy', '0'),\n",
       " ('/*Scanner list/OptoXY xsenscal_xxx', '0'),\n",
       " ('/*Scanner list/OptoXY xsenscal_yyy', '0'),\n",
       " ('/*Scanner list/OptoXY xsenscal_xxyy', '0'),\n",
       " ('/*Scanner list/OptoXY xsenscal_xxxy', '0'),\n",
       " ('/*Scanner list/OptoXY xsenscal_xyyy', '0'),\n",
       " ('/*Scanner list/OptoXY xsenscal_xxxx', '0'),\n",
       " ('/*Scanner list/OptoXY xsenscal_yyyy', '0'),\n",
       " ('/*Scanner list/OptoXY ysenscal_x', '0'),\n",
       " ('/*Scanner list/OptoXY ysenscal_y', '0'),\n",
       " ('/*Scanner list/OptoXY ysenscal_xy', '0'),\n",
       " ('/*Scanner list/OptoXY ysenscal_xx', '0'),\n",
       " ('/*Scanner list/OptoXY ysenscal_yy', '0'),\n",
       " ('/*Scanner list/OptoXY ysenscal_xxy', '0'),\n",
       " ('/*Scanner list/OptoXY ysenscal_xyy', '0'),\n",
       " ('/*Scanner list/OptoXY ysenscal_xxx', '0'),\n",
       " ('/*Scanner list/OptoXY ysenscal_yyy', '0'),\n",
       " ('/*Scanner list/OptoXY ysenscal_xxyy', '0'),\n",
       " ('/*Scanner list/OptoXY ysenscal_xxxy', '0'),\n",
       " ('/*Scanner list/OptoXY ysenscal_xyyy', '0'),\n",
       " ('/*Scanner list/OptoXY ysenscal_xxxx', '0'),\n",
       " ('/*Scanner list/OptoXY ysenscal_yyyy', '0'),\n",
       " ('/*Scanner list/OptoXY orthocal_x', '0'),\n",
       " ('/*Scanner list/OptoXY orthocal_y', '0'),\n",
       " ('/*Scanner list/OptoXY orthocal_xy', '0'),\n",
       " ('/*Scanner list/OptoXY orthocal_xx', '0'),\n",
       " ('/*Scanner list/OptoXY orthocal_yy', '0'),\n",
       " ('/*Scanner list/ClosedLoop x igain', '5'),\n",
       " ('/*Scanner list/ClosedLoop y igain', '5'),\n",
       " ('/*Scanner list/Offset X TC0', '18.2867'),\n",
       " ('/*Scanner list/Offset X TC1', '81.9093'),\n",
       " ('/*Scanner list/Offset X TC2', '495.856'),\n",
       " ('/*Scanner list/Offset X Gain0', '0.00178541'),\n",
       " ('/*Scanner list/Offset X Gain1', '0.00179373'),\n",
       " ('/*Scanner list/Offset X Gain2', '0.00516035'),\n",
       " ('/*Scanner list/Offset Y TC0', '97.4543'),\n",
       " ('/*Scanner list/Offset Y TC1', '1.0058'),\n",
       " ('/*Scanner list/Offset Y TC2', '349.488'),\n",
       " ('/*Scanner list/Offset Y Gain0', '0.00263142'),\n",
       " ('/*Scanner list/Offset Y Gain1', '0'),\n",
       " ('/*Scanner list/Offset Y Gain2', '0.0049999'),\n",
       " ('/*Scanner list/Z Sensor TC0', '1.27743'),\n",
       " ('/*Scanner list/Z Sensor TC1', '19.2371'),\n",
       " ('/*Scanner list/Z Sensor TC2', '174.883'),\n",
       " ('/*Scanner list/Z Sensor Gain0', '0.00251263'),\n",
       " ('/*Scanner list/Z Sensor Gain1', '0.00192592'),\n",
       " ('/*Scanner list/Z Sensor Gain2', '0.00318373'),\n",
       " ('/*Scanner list/Z range sens', '17.6756'),\n",
       " ('/*Scanner list/StrainZ Scanner', 'Yes'),\n",
       " ('/*Scanner list/Z sensor sens', '474.99'),\n",
       " ('/*Scanner list/Z sensor gain factor', '2'),\n",
       " ('/*Scanner list/Z sensor offset gain', '3.4'),\n",
       " ('/*Scanner list/Full Range Sensor Gain', '0.6'),\n",
       " ('/*Scanner list/Z sensor LinOC', '0.0168626'),\n",
       " ('/*Scanner list/Z sensor LinC1', '1'),\n",
       " ('/*Scanner list/Z sensor LinC2', '0.000704307'),\n",
       " ('/*Scanner list/Z sensor LinC3', '-0.140429'),\n",
       " ('/*Scanner list/Z sensor LinC4', '0.4774'),\n",
       " ('/*Scanner list/Z sensor Linearization', 'Yes'),\n",
       " ('/*Scanner list/Has I2C', 'Yes'),\n",
       " ('/*Scanner list/Adaptive XY Feedback Scanner', 'Yes'),\n",
       " ('/*Scanner list/Adaptive ScanSizeExpRatio', '0.5'),\n",
       " ('/*Scanner list/Adaptive Minimal Scan Size', '10'),\n",
       " ('/*Scanner list/Adaptive Minimal Scan Rate', '0.2'),\n",
       " ('/*Scanner list/Adaptive x RefPolarity', '-1'),\n",
       " ('/*Scanner list/Adaptive y RefPolarity', '-1'),\n",
       " ('/*Scanner list/Adaptive x PlantGain', '2'),\n",
       " ('/*Scanner list/Adaptive y PlantGain', '2'),\n",
       " ('/*Scanner list/Adaptive x SensorNoise', '320'),\n",
       " ('/*Scanner list/Adaptive y SensorNoise', '320'),\n",
       " ('/*Scanner list/Adaptive x CutOffFreq', '200'),\n",
       " ('/*Scanner list/Adaptive y CutOffFreq', '200'),\n",
       " ('/*Scanner list/Adaptive x Feedback BW', '2'),\n",
       " ('/*Scanner list/Adaptive y Feedback BW', '2'),\n",
       " ('/*Scanner list/Illumination Scale Factor', '0.15'),\n",
       " ('/*Scanner list/Illumination Range', '1023'),\n",
       " ('/*Scanner list/XY digital CL xIgain', '8'),\n",
       " ('/*Scanner list/XY digital CL yIgain', '8'),\n",
       " ('/*Scanner list/@Sens. Zsens', 'V 17.82768 nm/V'),\n",
       " ('/*Scanner list/@Sens. CurrentSens', 'V 10.00000 nA/V'),\n",
       " ('/*Scanner list/@Sens. SECPMSens', 'V 100.0000 mV/V'),\n",
       " ('/*Scanner list/@Sens. Xsensor', 'V 6265.256 nm/V'),\n",
       " ('/*Scanner list/@Sens. Ysensor', 'V 6356.550 nm/V')]"
      ]
     },
     "execution_count": 39,
     "metadata": {},
     "output_type": "execute_result"
    }
   ],
   "source": [
    "scan_list"
   ]
  },
  {
   "cell_type": "code",
   "execution_count": null,
   "id": "5b0d9d25-262a-4600-b68c-1a2ed2135248",
   "metadata": {},
   "outputs": [],
   "source": []
  }
 ],
 "metadata": {
  "kernelspec": {
   "display_name": "Python 3 (ipykernel)",
   "language": "python",
   "name": "python3"
  },
  "language_info": {
   "codemirror_mode": {
    "name": "ipython",
    "version": 3
   },
   "file_extension": ".py",
   "mimetype": "text/x-python",
   "name": "python",
   "nbconvert_exporter": "python",
   "pygments_lexer": "ipython3",
   "version": "3.10.12"
  }
 },
 "nbformat": 4,
 "nbformat_minor": 5
}
