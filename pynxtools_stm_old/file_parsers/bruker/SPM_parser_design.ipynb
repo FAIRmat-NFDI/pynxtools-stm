{
 "cells": [
  {
   "cell_type": "markdown",
   "id": "ec8a7695-e697-423c-9fa1-f10ba9c88a59",
   "metadata": {},
   "source": [
    "# Design of SPM parsers"
   ]
  },
  {
   "cell_type": "markdown",
   "id": "0fa8f474-0418-4e03-a149-4c4733c3579b",
   "metadata": {},
   "source": [
    "## Structure\n",
    "```txt\n",
    "--src\n",
    "    --pnyxtools-spm\n",
    "        --parsers\n",
    "            --utils.py\n",
    "            --bruker.py\n",
    "            --nanonis.py\n",
    "        --nxformats\n",
    "            --formatter.py\n",
    "            --fromBruker.py\n",
    "            --fromnanonis.py\n",
    "            --utils.py\n",
    "        reader.py\n",
    "    --tests\n",
    "```"
   ]
  },
  {
   "cell_type": "markdown",
   "id": "66e975c0-8dd0-47dd-9037-6debdb63f7bb",
   "metadata": {},
   "source": [
    "### Python file design\n",
    " **formatter.py**\n",
    " \n",
    " **TODO: Question for: Does the inheritance from ABCclass also inherits the docs from abstract method as well.**\n",
    " **TODO: add_logger and unit registry in formatter.py**\n",
    "```python\n",
    "from typing import Dict, Union\n",
    "from path import Path\n",
    "\n",
    "@dataclass\n",
    "class NXdata:\n",
    "    grp_name: Optional[str] = \"\"\n",
    "    signal: Optional[str] = None\n",
    "    auxiliary_signals: Optional[List[str] : None\n",
    "    title: str\n",
    "\n",
    "@dataclass\n",
    "class NXscan_control:\n",
    "    # TODO construct is later\n",
    "\n",
    "\n",
    "class SPMformater(ABC):\n",
    "    def __init__(self, \n",
    "                 raw_file: Union[str, Path],\n",
    "                 eln_dict: Dict,\n",
    "                 config_dict: Optional[Dict] = None, # Incase it is not provided by users\n",
    "                 data_dict: Optional[Dict] = None,\n",
    "                 entry: Optional[str] = None\n",
    "                )\n",
    "        self.eln: Dict = eln_dict\n",
    "        self.conf: Dict = config_dict | self.__get_conf_dict()\n",
    "        self.raw_data: Dict = data_dict | self.__get_\n",
    "\n",
    "    @abstructmethod\n",
    "    def get_conf_dict(self):\n",
    "        ...\n",
    "        \n",
    "    @abstructmethod\n",
    "    def get_raw_data_dict(self):\n",
    "        ...\n",
    "        \n",
    "    @abstructmethod\n",
    "    def __construct_nxscan_controlers(self):\n",
    "        ...\n",
    "         # TODO: if NXscan_control is implementd please try to construct \n",
    "         # scan_controller here\n",
    "\n",
    "    @absturctmethod\n",
    "    def __construct_nxlockin(self):\n",
    "        ...\n",
    "    @abstructmethod\n",
    "    def __construct_nxdata(self)\n",
    "        ...\n",
    "        # TODO construct code here\n",
    "```"
   ]
  },
  {
   "cell_type": "code",
   "execution_count": null,
   "id": "16b22b65-4c70-4d8e-bd46-993212eb552a",
   "metadata": {},
   "outputs": [],
   "source": []
  }
 ],
 "metadata": {
  "kernelspec": {
   "display_name": "Python 3 (ipykernel)",
   "language": "python",
   "name": "python3"
  },
  "language_info": {
   "codemirror_mode": {
    "name": "ipython",
    "version": 3
   },
   "file_extension": ".py",
   "mimetype": "text/x-python",
   "name": "python",
   "nbconvert_exporter": "python",
   "pygments_lexer": "ipython3",
   "version": "3.11.10"
  }
 },
 "nbformat": 4,
 "nbformat_minor": 5
}
