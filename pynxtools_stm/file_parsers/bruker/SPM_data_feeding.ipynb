{
 "cells": [
  {
   "cell_type": "code",
   "execution_count": 14,
   "id": "3342041e-76f6-4e64-b9b5-8a6d501f54e3",
   "metadata": {},
   "outputs": [
    {
     "data": {
      "text/plain": [
       "'~m'"
      ]
     },
     "execution_count": 14,
     "metadata": {},
     "output_type": "execute_result"
    }
   ],
   "source": [
    "## Brucker specific unit\n",
    "{'~m': 'um'}"
   ]
  },
  {
   "cell_type": "code",
   "execution_count": null,
   "id": "89bc1bb5-a02a-4323-a5a4-3bea48053564",
   "metadata": {},
   "outputs": [],
   "source": [
    "# Bruker\n",
    "# TODO: keep demographic symbols such as `N` as it is rather than `x`, `y` and/or `z`.\n",
    "\n",
    "AFM_template = {\n",
    "    \"/ENTRY[entry]/experiment_insturment\": \"None\",\n",
    "    \"/ENTRY[entry]/experiment_insturment/CANTILEVER_SPM[cantilever_spm]/\": \"None\",\n",
    "    \"/ENTRY[entry]/experiment_insturment/CANTILEVER_SPM[cantilever_spm]\": \"None\",\n",
    "    \"/ENTRY[entry]/experiment_insturment/CANTILEVER_SPM[cantilever_spm]\": \"None\",\n",
    "    \"/ENTRY[entry]/experiment_insturment/CANTILEVER_SPM[cantilever_spm]\": \"None\",\n",
    "    \"/ENTRY[entry]/experiment_insturment/ENVIRONMENT[environment]\": \"None\",\n",
    "    \"/ENTRY[entry]/experiment_insturment/ENVIRONMENT[environment]/XY_piezo_sensor/value\": \"None\",\n",
    "    \"/ENTRY[entry]/experiment_insturment/ENVIRONMENT[environment]/XY_piezo_sensor/calibration_time\": \"None\",\n",
    "    \"/ENTRY[entry]/experiment_insturment/ENVIRONMENT[environment]/XY_piezo_sensor/value/@units\": \"None\",\n",
    "    \"/ENTRY[entry]/experiment_insturment/ENVIRONMENT[environment]/XY_piezo_sensor[xy_piezo_sensor]\": \"None\",\n",
    "    \"/ENTRY[entry]/experiment_insturment/ENVIRONMENT[environment]/XY_piezo_sensor[xy_piezo_sensor]/calibration_time\": \"None\",\n",
    "    \"/ENTRY[entry]/experiment_insturment/ENVIRONMENT[environment]/XY_piezo_sensor[xy_piezo_sensor]/value\": \"None\",\n",
    "    \"/ENTRY[entry]/experiment_insturment/ENVIRONMENT[environment]/XY_piezo_sensor[xy_piezo_sensor]/value/@units\": \"None\",\n",
    "    \"/ENTRY[entry]/experiment_insturment/ENVIRONMENT[environment]/height_piezo_sensor\": \"None\",\n",
    "    \"/ENTRY[entry]/experiment_insturment/ENVIRONMENT[environment]/height_piezo_sensor/calibration_time\": \"None\",\n",
    "    \"/ENTRY[entry]/experiment_insturment/ENVIRONMENT[environment]/height_piezo_sensor/value\": \"None\",\n",
    "    \"/ENTRY[entry]/experiment_insturment/ENVIRONMENT[environment]/height_piezo_sensor/value/@units\": \"None\",\n",
    "    \"/ENTRY[entry]/experiment_insturment/ENVIRONMENT[environment]/independent_controllers\": \"None\",\n",
    "    \"/ENTRY[entry]/experiment_insturment/ENVIRONMENT[environment]/measurement_sensors\": \"None\",\n",
    "    \"/ENTRY[entry]/experiment_insturment/ENVIRONMENT[environment]/tip_temperature\": \"None\",\n",
    "    \"/ENTRY[entry]/experiment_insturment/ENVIRONMENT[environment]/tip_temperature/calibration_time\": \"None\",\n",
    "    \"/ENTRY[entry]/experiment_insturment/ENVIRONMENT[environment]/tip_temperature/value\": \"None\",\n",
    "    \"/ENTRY[entry]/experiment_insturment/ENVIRONMENT[environment]/tip_temperature/value/@units\": \"None\",\n",
    "\n",
    "    # Starts cantilever_spm\n",
    "    \"/ENTRY[entry]/experiment_insturment/CANTILEVER_SPM[cantilever_spm]/\": \"None\",\n",
    "    \"/ENTRY[entry]/experiment_insturment/CANTILEVER_SPM[cantilever_spm]/cantilever_config/z:offset\": \"\\Z engage position\",\n",
    "    # Starts cantilever_spm\n",
    "    \n",
    "    # Starts Scan_control\n",
    "    \"/ENTRY[entry]/experiment_insturment/ENVIRONMENT[environment]/scan_control/scan_region/scan_offset_x\": \"/Engage X Pos\",\n",
    "    \"/ENTRY[entry]/experiment_insturment/ENVIRONMENT[environment]/scan_control/scan_region/scan_offset_y\": \"/Engage Y Pos\",\n",
    "    \"/ENTRY[entry]/experiment_insturment/ENVIRONMENT[environment]/scan_control/scan_region/scan_range_x\": \"SCAN_LAYER/Scan Size\",\n",
    "    \"/ENTRY[entry]/experiment_insturment/ENVIRONMENT[environment]/scan_control/scan_region/scan_range_y\": \"SCAN_LAYER/Scan Size\",\n",
    "    \"/ENTRY[entry]/experiment_insturment/ENVIRONMENT[environment]/scan_control/scan_region/scan_start_x\": \"SCAN_LAYER/Valid data start X\",\n",
    "    \"/ENTRY[entry]/experiment_insturment/ENVIRONMENT[environment]/scan_control/scan_region/scan_start_y\": \"SCAN_LAYER/Valid data start Y\",\n",
    "\n",
    "        # b'@2:Image Data': [b'S [ZSensor] \"Height Sensor\"'] rename: scan_ Height Sensor\n",
    "    \"/ENTRY[entry]/experiment_insturment/ENVIRONMENT[environment]/scan_control/scan_region/MESH_SCAN[mesh_scan]/scan_points_x\": \"SCAN_LAYER/Valid data len X\",\n",
    "    \"/ENTRY[entry]/experiment_insturment/ENVIRONMENT[environment]/scan_control/scan_region/MESH_SCAN[mesh_scan]/scan_points_y\": \"SCAN_LAYER/Valid data len X\",\n",
    "    \"/ENTRY[entry]/experiment_insturment/ENVIRONMENT[environment]/scan_control/scan_region/MESH_SCAN[mesh_scan]/step_size_x\": \"TODO: needs to be calculated\",\n",
    "    \"/ENTRY[entry]/experiment_insturment/ENVIRONMENT[environment]/scan_control/scan_region/MESH_SCAN[mesh_scan]/step_size_x\": \"TODO: needs to be calculated\",\n",
    "    \n",
    "\n",
    "\n",
    "    \n",
    "    \"/ENTRY[entry]/experiment_insturment/ENVIRONMENT[environment]/scan_control/scan_region/scan_direction\": \"SCAN_LAYER/Frame direction\",\n",
    "    # Ends Scan_control\n",
    "    \n",
    "    # xy_piezo_sensor start\n",
    "    # Question:\n",
    "        # 1. What is the unit for sensitivity\n",
    "    \"/ENTRY[entry]/experiment_insturment/XY_piezo_sensor[xy_piezo_sensor]\": \"None\",\n",
    "    \"/ENTRY[entry]/experiment_insturment/XY_piezo_sensor[xy_piezo_sensor]/strain_xy\": \"/*Scanner list/StrainXY Scanner\",\n",
    "    \"/ENTRY[entry]/experiment_insturment/XY_piezo_sensor[xy_piezo_sensor]/PIEZO_CONFIG_SPM[piezo_config_spm]\": \"None\",\n",
    "    \"/ENTRY[entry]/experiment_insturment/XY_piezo_sensor[xy_piezo_sensor]/PIEZO_CONFIG_SPM[piezo_config_spm]/x_sensitivity\": \"/*Scanner list/OptoXY x sensitivity\",\n",
    "    \"/ENTRY[entry]/experiment_insturment/XY_piezo_sensor[xy_piezo_sensor]/PIEZO_CONFIG_SPM[piezo_config_spm]/x_sensitivity\": \"/*Scanner list/OptoXY x sensitivity\",\n",
    "    \"/ENTRY[entry]/experiment_insturment/XY_piezo_sensor[xy_piezo_sensor]/PIEZO_CONFIG_SPM[piezo_config_spm]/x_y_orthogonality\": \"/*Scanner list/OptoXY orthogonality\",\n",
    "    \"/ENTRY[entry]/experiment_insturment/XY_piezo_sensor[xy_piezo_sensor]/PIEZO_CONFIG_SPM[piezo_config_spm]/calibration/x_sensitivity\": \"/*Scanner list/OptoXY x sens fitted\",\n",
    "    \"/ENTRY[entry]/experiment_insturment/XY_piezo_sensor[xy_piezo_sensor]/PIEZO_CONFIG_SPM[piezo_config_spm]/calibration/x_sensitivity\": \"/*Scanner list/OptoXY y sens fitted\",\n",
    "    \"/ENTRY[entry]/experiment_insturment/XY_piezo_sensor[xy_piezo_sensor]/PIEZO_CONFIG_SPM[piezo_config_spm]/calibration/x_y_orthogonality\": \"/*Scanner list/OptoXY orthog fitted\",\n",
    "    \"/ENTRY[entry]/experiment_insturment/XY_piezo_sensor[xy_piezo_sensor]/POSITIONER_SPM[positioner_spm]\": \"None\",\n",
    "    \"/ENTRY[entry]/experiment_insturment/XY_piezo_sensor[xy_piezo_sensor]/piezo_material\": \"None\",\n",
    "    # xy_piezo_sensor ends\n",
    "    \n",
    "    # Height_piezo sensor starts\n",
    "    \"/ENTRY[entry]/experiment_insturment/height_piezo_sensor\": \"None\",\n",
    "    \"/ENTRY[entry]/experiment_insturment/height_piezo_sensor/PIEZO_CONFIG_SPM[piezo_config_spm]\": \"None\",\n",
    "    \"/ENTRY[entry]/experiment_insturment/height_piezo_sensor/PIEZO_CONFIG_SPM[piezo_config_spm]/sensitivity\": \"/*Scanner list/@Sens. Zsens\",\n",
    "    \"/ENTRY[entry]/experiment_insturment/height_piezo_sensor/POSITIONER_SPM[positioner_spm]\": \"None\",\n",
    "    \"/ENTRY[entry]/experiment_insturment/height_piezo_sensor/piezo_material\": \"None\",\n",
    "    \"/ENTRY[entry]/experiment_insturment/photo_detector\": \"None\",\n",
    "    \"/ENTRY[entry]/experiment_insturment/tip_temperature\": \"None\",\n",
    "    # Ends Height_piezo sensors\n",
    "    \n",
    "    \n",
    "    # Note: topography data will go to the plot\n",
    "    # Starts Currrent sensor: \n",
    "    \"/ENTRY[entry]/experiment_instrument/current_sensor/current_sensitivity\": \"/*Ciao scan list/AFM Current Sensitivity\",\n",
    "    # Ends Current sensor:\n",
    "\n",
    "    # Starts Voltage sensor \n",
    "    \"/ENTRY[entry]/experiment_insturment/volatage_sensor\": \"None\",\n",
    "    # Ends Voltage Sensors\n",
    "\n",
    "    # Starts Lock-in info\n",
    "    \"/ENTRY[entry]/experiment_insturment/LOCKIN[lockin]\": \"None\",\n",
    "    # Ends Lock-in info\n",
    "\n",
    "    # Starts sample-bias-voltage\n",
    "    \"/ENTRY[entry]/experiment_insturment/sample_bias_votage/bias_calibration/caliberation_time\": \"None\",\n",
    "    # Ends sample-bias-voltage\n",
    "    \n",
    "    \"/ENTRY[entry]/definition\": \"None\",\n",
    "    \"/ENTRY[entry]/definition/@version\": \"None\",\n",
    "    \"/ENTRY[entry]/scan_mode\": \"None\",\n",
    "    # Starts filling up NXdata\n",
    "    \"/ENTRY[entry]/DATA[data]/scan_type\": \"SCAN_LAYER/Data type\"\n",
    "}\n",
    "\n",
    "SPM_template = {\n",
    "    \"/ENTRY[entry]/SAMPLE[sample]\": \"None\",\n",
    "    \"/ENTRY[entry]/SAMPLE[sample]/name\": \"None\",\n",
    "    \"/ENTRY[entry]/SAMPLE[sample]/sample_environment\": \"None\",\n",
    "    \"/ENTRY[entry]/SAMPLE[sample]/sample_environment/sample_bias_voltage\": \"None\",\n",
    "    \"/ENTRY[entry]/definition\": \"None\",\n",
    "    \"/ENTRY[entry]/definition/@version\": \"None\",\n",
    "    \"/ENTRY[entry]/experiment_insturment/ENVIRONMENT[environment]\": \"None\",\n",
    "    \"/ENTRY[entry]/experiment_insturment/ENVIRONMENT[environment]/SCAN_CONTROL[scan_control]\": \"None\",\n",
    "    \"/ENTRY[entry]/experiment_insturment/ENVIRONMENT[environment]/current_sensor\": \"None\",\n",
    "    \"/ENTRY[entry]/experiment_insturment/ENVIRONMENT[environment]/current_sensor/calibration_time\": \"None\",\n",
    "    \"/ENTRY[entry]/experiment_insturment/ENVIRONMENT[environment]/current_sensor/value\": \"None\",\n",
    "    \"/ENTRY[entry]/experiment_insturment/ENVIRONMENT[environment]/current_sensor/value/@units\": \"None\",\n",
    "    \"/ENTRY[entry]/experiment_insturment/ENVIRONMENT[environment]/independent_controllers\": \"None\",\n",
    "    \"/ENTRY[entry]/experiment_insturment/ENVIRONMENT[environment]/measurement_sensors\": \"None\",\n",
    "    \"/ENTRY[entry]/experiment_insturment/ENVIRONMENT[environment]/piazo_sensor\": \"None\",\n",
    "    \"/ENTRY[entry]/experiment_insturment/ENVIRONMENT[environment]/piazo_sensor/calibration_time\": \"None\",\n",
    "    \"/ENTRY[entry]/experiment_insturment/ENVIRONMENT[environment]/piazo_sensor/value\": \"None\",\n",
    "    \"/ENTRY[entry]/experiment_insturment/ENVIRONMENT[environment]/piazo_sensor/value/@units\": \"None\",\n",
    "    \"/ENTRY[entry]/experiment_insturment/ENVIRONMENT[environment]/volatage_sensor\": \"None\",\n",
    "    \"/ENTRY[entry]/experiment_insturment/ENVIRONMENT[environment]/volatage_sensor/calibration_time\": \"None\",\n",
    "    \"/ENTRY[entry]/experiment_insturment/ENVIRONMENT[environment]/volatage_sensor/value\": \"None\",\n",
    "    \"/ENTRY[entry]/experiment_insturment/ENVIRONMENT[environment]/volatage_sensor/value/@units\": \"None\",\n",
    "    \"/ENTRY[entry]/experiment_insturment/LOCKIN[lockin]\": \"None\",\n",
    "    \"/ENTRY[entry]/experiment_insturment/TEMPERATURE[temperature]/CHANNEL_temp[channel_temp]\": \"None\",\n",
    "    \"/ENTRY[entry]/experiment_insturment/TEMPERATURE[temperature]/temperature\": \"None\",\n",
    "    \"/ENTRY[entry]/experiment_insturment/TEMPERATURE[temperature]/temperature/@units\": \"None\",\n",
    "    \"/ENTRY[entry]/experiment_insturment/TEMPERATURE[temperature]/temperature_calibration/caliberation_time\": \"None\",\n",
    "    \"/ENTRY[entry]/experiment_insturment/TEMPERATURE[temperature]/temperature_calibration/caliberation_time/@units\": \"None\",\n",
    "    \"/ENTRY[entry]/experiment_insturment/TEMPERATURE[temperature]/temperature_calibration/coefficients\": \"None\",\n",
    "    \"/ENTRY[entry]/experiment_insturment/TEMPERATURE[temperature]/temperature_calibration/coefficients/@units\": \"None\",\n",
    "    \"/ENTRY[entry]/experiment_insturment/current_sensor\": \"None\",\n",
    "    \"/ENTRY[entry]/experiment_insturment/current_sensor/AMPLIFIER[amplifier]\": \"None\",\n",
    "    \"/ENTRY[entry]/experiment_insturment/hardware/model\": \"None\",\n",
    "    \"/ENTRY[entry]/experiment_insturment/hardware/model/@version\": \"None\",\n",
    "    \"/ENTRY[entry]/experiment_insturment/hardware/vendor\": \"None\",\n",
    "    \"/ENTRY[entry]/experiment_insturment/piazo_sensor\": \"None\",\n",
    "    \"/ENTRY[entry]/experiment_insturment/piazo_sensor/PIEZO_CONFIG_SPM[piezo_config_spm]\": \"None\",\n",
    "    \"/ENTRY[entry]/experiment_insturment/piazo_sensor/POSITIONER_SPM[positioner_spm]\": \"None\",\n",
    "    \"/ENTRY[entry]/experiment_insturment/piazo_sensor/piezo_material\": \"None\",\n",
    "    \"/ENTRY[entry]/experiment_insturment/real_time_controller\": \"None\",\n",
    "    \"/ENTRY[entry]/experiment_insturment/sample_bias_votage/bias_calibration/caliberation_time\": \"None\",\n",
    "    \"/ENTRY[entry]/experiment_insturment/sample_bias_votage/bias_calibration/caliberation_time/@units\": \"None\",\n",
    "    \"/ENTRY[entry]/experiment_insturment/sample_bias_votage/bias_calibration/coefficients\": \"None\",\n",
    "    \"/ENTRY[entry]/experiment_insturment/sample_bias_votage/bias_calibration/coefficients/@units\": \"None\",\n",
    "    \"/ENTRY[entry]/experiment_insturment/sample_bias_votage/bias_offset\": \"None\",\n",
    "    \"/ENTRY[entry]/experiment_insturment/sample_bias_votage/bias_offset/@units\": \"None\",\n",
    "    \"/ENTRY[entry]/experiment_insturment/sample_bias_votage/bias_voltage\": \"None\",\n",
    "    \"/ENTRY[entry]/experiment_insturment/sample_bias_votage/bias_voltage/@units\": \"None\",\n",
    "    \"/ENTRY[entry]/experiment_insturment/software/model\": \"None\",\n",
    "    \"/ENTRY[entry]/experiment_insturment/software/model/@version\": \"None\",\n",
    "    \"/ENTRY[entry]/experiment_insturment/software/vendor\": \"None\",\n",
    "    \"/ENTRY[entry]/experiment_insturment/volatage_sensor\": \"None\",\n",
    "    \"/ENTRY[entry]/experiment_insturment/volatage_sensor/AMPLIFIER[amplifier]\": \"None\",\n",
    "    \"/ENTRY[entry]/reproducibility_indicators\": \"None\",\n",
    "    \"/ENTRY[entry]/resolution_indicators\": \"None\",\n",
    "    \"/ENTRY[entry]/scan_mode\": \"None\"\n",
    "}\n",
    "\n",
    "# Some other metadata:\n",
    "# 1. \\Scanner type: Dim 4000\n",
    "# 2. \\Serial Number: 1b818\n",
    "# 3. Sensuitivity\n",
    "#  '/*Scanner list/@Sens. Zsens': 'V 17.82768 nm/V',\n",
    " # '/*Scanner list/@Sens. CurrentSens': 'V 10.00000 nA/V',\n",
    " # '/*Scanner list/@Sens. SECPMSens': 'V 100.0000 mV/V',\n",
    " # '/*Scanner list/@Sens. Xsensor': 'V 6265.256 nm/V',\n",
    " # '/*Scanner list/@Sens. Ysensor': 'V 6356.550 nm/V',\n",
    " '/*Ciao scan list/@MicroscopeList': 'S [TMMode] \"Tapping\"',\n"
   ]
  },
  {
   "cell_type": "code",
   "execution_count": 64,
   "id": "ac6a8040-c5bb-4d3b-8c79-1e205ad03be3",
   "metadata": {},
   "outputs": [
    {
     "data": {
      "text/plain": [
       "['/entry/sample/name',\n",
       " '/entry/sample/name',\n",
       " '/entry/sample',\n",
       " '/entry/monitor/preset',\n",
       " '/entry/monitor/mode',\n",
       " '/entry/monitor/data',\n",
       " '/entry/monitor',\n",
       " '/entry/instrument/source/type',\n",
       " '/entry/instrument/source/probe',\n",
       " '/entry/instrument/source/name',\n",
       " '/entry/instrument/source',\n",
       " '/entry/instrument/monochromator/energy',\n",
       " '/entry/instrument/monochromator',\n",
       " '/entry/instrument/incoming_beam/data',\n",
       " '/entry/instrument/incoming_beam']"
      ]
     },
     "execution_count": 64,
     "metadata": {},
     "output_type": "execute_result"
    }
   ],
   "source": [
    "# delete_key = []\n",
    "delete_key"
   ]
  },
  {
   "cell_type": "code",
   "execution_count": 38,
   "id": "355601a8-12fe-4dc6-b253-cc62e92175ba",
   "metadata": {},
   "outputs": [],
   "source": [
    "# Define Scan_control\n",
    "def construct_scan_control_grp(template, conf_dict, parent_path: str, data_dict, group_name='scan_control', layer_dict=None):\n",
    "    \"\"\"\n",
    "    The function that constructs `scan_control` group. \n",
    "    \"\"\"\n",
    "    scan_offset_x, unit_x = data_dict[conf_dict['/ENTRY[entry]/experiment_insturment/ENVIRONMENT[environment]/scan_control/scan_region/scan_offset_x']].split(' ')\n",
    "    \n",
    "    template[f\"{parent_path}/{group_name}/scan_region/SCAN_OFFSET_N[scan_offset_x]\"] = scan_offset_x \n",
    "    template[f\"{parent_path}/{group_name}/scan_region/SCAN_OFFSET_N[scan_offset_x]/@units\"] = unit_x\n",
    "    \n",
    "    scan_offset_y, unit_y = data_dict[conf_dict['/ENTRY[entry]/experiment_insturment/ENVIRONMENT[environment]/scan_control/scan_region/scan_offset_y']].split(' ')\n",
    "    \n",
    "    template[f\"{parent_path}/{group_name}/scan_region/SCAN_OFFSET_N[scan_offset_y]\"] = scan_offset_y\n",
    "    template[f\"{parent_path}/{group_name}/scan_region/SCAN_OFFSET_N[scan_offset_y]\"] = unit_y\n",
    "    \n",
    "    # Split the values into X and Y and put \n",
    "    scan_range = layer_dict['Scan Size'][0].decode()\n",
    "    range_x, range_y, unit = scan_range.split(' ')\n",
    "    range_x, range_y, unit = float(range_x), float(range_y)\n",
    "    \n",
    "    template[f\"{parent_path}/{group_name}/scan_region/SCAN_RANGE_N[scan_range_x]\"] = range_x\n",
    "    template[f\"{parent_path}/{group_name}/scan_region/SCAN_RANGE_N[scan_range_x]/@units\"] = unit \n",
    "    template[f\"{parent_path}/{group_name}/scan_region/SCAN_RANGE_N[scan_range_y]\"] = range_y\n",
    "    template[f\"{parent_path}/{group_name}/scan_region/SCAN_RANGE_N[scan_range_y]/@units\"] = unit\n",
    "\n",
    "    \n",
    "    # e.g. b'@2:Image Data': [b'S [ZSensor] \"Height Sensor\"'] \n",
    "    scan_name = layer_dict.get(b'@2:Image Data')[0].decode()\n",
    "    if \"Height Sensor\" in scan_name:\n",
    "        scan_name = \"height_sensor\"\n",
    "    \n",
    "    data_dict_key = conf_dict[\"/ENTRY[entry]/experiment_insturment/ENVIRONMENT[environment]/scan_control/MESH_SCAN[mesh_scan]/scan_points_x\"]\n",
    "    if data_dict_key.starts_with('SCAN_LAYER'):\n",
    "        value_in_b = layer_dict[data_dict_key.split('SCAN_LAYER/')[-1]]\n",
    "        # layer dict represents byte literal to list of bytes literal \n",
    "        value = int(value_in_b[0].decode())\n",
    "            \n",
    "        template[f\"{parent_path}/{group_name}/MESH_SCAN[mesh_{scan_name}]/scan_pints_x\"] = value\n",
    "        template[f\"{parent_path}/{group_name}/MESH_SCAN[mesh_{scan_name}]/step_size_x\"] = range_x / value\n",
    "\n",
    "    data_dict_key = conf_dict[\"/ENTRY[entry]/experiment_insturment/ENVIRONMENT[environment]/scan_control/MESH_SCAN[mesh_scan]/scan_points_y\"]\n",
    "    if data_dict_key.starts_with('SCAN_LAYER'):\n",
    "        value_in_b = layer_dict[data_dict_key.split('SCAN_LAYER/')[-1]]\n",
    "        # layer dict represents byte literal to list of bytes literal \n",
    "        value = int(value_in_b[0].decode())\n",
    "            \n",
    "        template[f\"{parent_path}/{group_name}/MESH_SCAN[mesh_{scan_name}]/scan_pints_y\"] = value\n",
    "        template[f\"{parent_path}/{group_name}/MESH_SCAN[mesh_{scan_name}]/step_size_x\"] = range_y / value\n",
    "        \n",
    "        \n",
    "\n",
    "def create_nexus_file():\n",
    "    app_def = \"NXafm\"\n",
    "    from pynxtools.dataconverter.template import Template\n",
    "    from pynxtools.dataconverter.helpers import generate_template_from_nxdl, get_nxdl_root_and_path\n",
    "    template = Template()\n",
    "    root, nxdl_path = get_nxdl_root_and_path(app_def)\n",
    "    generate_template_from_nxdl(root, template)\n",
    "    return template\n",
    "    "
   ]
  },
  {
   "cell_type": "code",
   "execution_count": 39,
   "id": "a3a19ae2-35fd-4f2b-944f-ffd555554bed",
   "metadata": {},
   "outputs": [],
   "source": [
    "from pint import UnitRegistry\n",
    "ureg = UnitRegistry()\n",
    "\n"
   ]
  },
  {
   "cell_type": "code",
   "execution_count": 40,
   "id": "30e97533-5768-4ca0-88c6-f464fe0daa17",
   "metadata": {},
   "outputs": [
    {
     "data": {
      "text/plain": [
       "{'/ENTRY[entry]/INSTRUMENT[instrument]/photo_detector': None, '/ENTRY[entry]/INSTRUMENT[instrument]/CANTILEVER_SPM[cantilever_spm]': None, '/ENTRY[entry]/INSTRUMENT[instrument]/height_piezo_sensor': None, '/ENTRY[entry]/INSTRUMENT[instrument]/height_piezo_sensor/piezo_material': None, '/ENTRY[entry]/INSTRUMENT[instrument]/XY_piezo_sensor[xy_piezo_sensor]': None, '/ENTRY[entry]/INSTRUMENT[instrument]/XY_piezo_sensor[xy_piezo_sensor]/piezo_material': None, '/ENTRY[entry]/INSTRUMENT[instrument]/tip_temperature': None, '/ENTRY[entry]/definition': None, '/ENTRY[entry]/definition/@version': None, '/ENTRY[entry]/scan_mode': None, '/ENTRY[entry]/INSTRUMENT[instrument]': None, '/ENTRY[entry]/INSTRUMENT[instrument]/ENVIRONMENT[environment]': None, '/ENTRY[entry]/INSTRUMENT[instrument]/ENVIRONMENT[environment]/measurement_sensors': None, '/ENTRY[entry]/INSTRUMENT[instrument]/ENVIRONMENT[environment]/independent_controllers': None, '/ENTRY[entry]/INSTRUMENT[instrument]/ENVIRONMENT[environment]/height_piezo_sensor': None, '/ENTRY[entry]/INSTRUMENT[instrument]/ENVIRONMENT[environment]/height_piezo_sensor/calibration_time': None, '/ENTRY[entry]/INSTRUMENT[instrument]/ENVIRONMENT[environment]/height_piezo_sensor/value': None, '/ENTRY[entry]/INSTRUMENT[instrument]/ENVIRONMENT[environment]/height_piezo_sensor/value/@units': None, '/ENTRY[entry]/INSTRUMENT[instrument]/ENVIRONMENT[environment]/XY_piezo_sensor[xy_piezo_sensor]': None, '/ENTRY[entry]/INSTRUMENT[instrument]/ENVIRONMENT[environment]/XY_piezo_sensor[xy_piezo_sensor]/calibration_time': None, '/ENTRY[entry]/INSTRUMENT[instrument]/ENVIRONMENT[environment]/XY_piezo_sensor[xy_piezo_sensor]/value': None, '/ENTRY[entry]/INSTRUMENT[instrument]/ENVIRONMENT[environment]/XY_piezo_sensor[xy_piezo_sensor]/value/@units': None, '/ENTRY[entry]/INSTRUMENT[instrument]/ENVIRONMENT[environment]/tip_temperature': None, '/ENTRY[entry]/INSTRUMENT[instrument]/ENVIRONMENT[environment]/tip_temperature/calibration_time': None, '/ENTRY[entry]/INSTRUMENT[instrument]/ENVIRONMENT[environment]/tip_temperature/value': None, '/ENTRY[entry]/INSTRUMENT[instrument]/ENVIRONMENT[environment]/tip_temperature/value/@units': None, '/ENTRY[entry]/INSTRUMENT[instrument]/height_piezo_sensor/PIEZO_CONFIG_SPM[piezo_config_spm]': None, '/ENTRY[entry]/INSTRUMENT[instrument]/height_piezo_sensor/POSITIONER_SPM[positioner_spm]': None, '/ENTRY[entry]/INSTRUMENT[instrument]/XY_piezo_sensor[xy_piezo_sensor]/PIEZO_CONFIG_SPM[piezo_config_spm]': None, '/ENTRY[entry]/INSTRUMENT[instrument]/XY_piezo_sensor[xy_piezo_sensor]/POSITIONER_SPM[positioner_spm]': None}"
      ]
     },
     "execution_count": 40,
     "metadata": {},
     "output_type": "execute_result"
    }
   ],
   "source": [
    "create_nexus_file()"
   ]
  },
  {
   "cell_type": "code",
   "execution_count": 35,
   "id": "b5338edd-f02f-4a63-8be9-bd54093a1d75",
   "metadata": {},
   "outputs": [
    {
     "data": {
      "text/html": [
       "20 micrometer"
      ],
      "text/latex": [
       "$20\\ \\mathrm{micrometer}$"
      ],
      "text/plain": [
       "<Quantity(20, 'micrometer')>"
      ]
     },
     "execution_count": 35,
     "metadata": {},
     "output_type": "execute_result"
    }
   ],
   "source": [
    "micor_meter"
   ]
  },
  {
   "cell_type": "code",
   "execution_count": 36,
   "id": "030e358b-f99e-4527-b564-dd30a3eeebe6",
   "metadata": {},
   "outputs": [
    {
     "data": {
      "text/plain": [
       "\u001b[0;31mSignature:\u001b[0m\n",
       "\u001b[0mgenerate_template_from_nxdl\u001b[0m\u001b[0;34m(\u001b[0m\u001b[0;34m\u001b[0m\n",
       "\u001b[0;34m\u001b[0m    \u001b[0mroot\u001b[0m\u001b[0;34m,\u001b[0m\u001b[0;34m\u001b[0m\n",
       "\u001b[0;34m\u001b[0m    \u001b[0mtemplate\u001b[0m\u001b[0;34m,\u001b[0m\u001b[0;34m\u001b[0m\n",
       "\u001b[0;34m\u001b[0m    \u001b[0mpath\u001b[0m\u001b[0;34m=\u001b[0m\u001b[0;34m''\u001b[0m\u001b[0;34m,\u001b[0m\u001b[0;34m\u001b[0m\n",
       "\u001b[0;34m\u001b[0m    \u001b[0mnxdl_root\u001b[0m\u001b[0;34m=\u001b[0m\u001b[0;32mNone\u001b[0m\u001b[0;34m,\u001b[0m\u001b[0;34m\u001b[0m\n",
       "\u001b[0;34m\u001b[0m    \u001b[0mnxdl_name\u001b[0m\u001b[0;34m=\u001b[0m\u001b[0;32mNone\u001b[0m\u001b[0;34m,\u001b[0m\u001b[0;34m\u001b[0m\n",
       "\u001b[0;34m\u001b[0m\u001b[0;34m)\u001b[0m\u001b[0;34m\u001b[0m\u001b[0;34m\u001b[0m\u001b[0m\n",
       "\u001b[0;31mDocstring:\u001b[0m Helper function to generate a template dictionary for given NXDL\n",
       "\u001b[0;31mFile:\u001b[0m      ~/NOMAD-FAIRmat/GH/pynxtools/src/pynxtools/dataconverter/helpers.py\n",
       "\u001b[0;31mType:\u001b[0m      function"
      ]
     },
     "metadata": {},
     "output_type": "display_data"
    }
   ],
   "source": [
    "from pynxtools.dataconverter.helpers import generate_template_from_nxdl, get_nxdl_root_and_path\n",
    "\n",
    "generate_template_from_nxdl?"
   ]
  },
  {
   "cell_type": "code",
   "execution_count": 21,
   "id": "611aa6e2-99d0-42f2-9c58-f1c18ca10a47",
   "metadata": {},
   "outputs": [
    {
     "data": {
      "text/plain": [
       "\u001b[0;31mSignature:\u001b[0m \u001b[0mget_appdef_root\u001b[0m\u001b[0;34m(\u001b[0m\u001b[0mxml_elem\u001b[0m\u001b[0;34m:\u001b[0m \u001b[0mlxml\u001b[0m\u001b[0;34m.\u001b[0m\u001b[0metree\u001b[0m\u001b[0;34m.\u001b[0m\u001b[0m_Element\u001b[0m\u001b[0;34m)\u001b[0m \u001b[0;34m->\u001b[0m \u001b[0mlxml\u001b[0m\u001b[0;34m.\u001b[0m\u001b[0metree\u001b[0m\u001b[0;34m.\u001b[0m\u001b[0m_Element\u001b[0m\u001b[0;34m\u001b[0m\u001b[0;34m\u001b[0m\u001b[0m\n",
       "\u001b[0;31mDocstring:\u001b[0m\n",
       "Get the root element of the tree of xml_elem\n",
       "\n",
       "Args:\n",
       "    xml_elem (ET._Element): The element for which to get the root element.\n",
       "\n",
       "Returns:\n",
       "    ET._Element: The root element of the tree.\n",
       "\u001b[0;31mFile:\u001b[0m      ~/NOMAD-FAIRmat/GH/pynxtools/src/pynxtools/dataconverter/helpers.py\n",
       "\u001b[0;31mType:\u001b[0m      function"
      ]
     },
     "metadata": {},
     "output_type": "display_data"
    }
   ],
   "source": [
    "get_appdef_root?"
   ]
  },
  {
   "cell_type": "code",
   "execution_count": null,
   "id": "5f520087-0cc9-4f84-87c6-e2ae1df82264",
   "metadata": {},
   "outputs": [],
   "source": []
  }
 ],
 "metadata": {
  "kernelspec": {
   "display_name": "Python 3 (ipykernel)",
   "language": "python",
   "name": "python3"
  },
  "language_info": {
   "codemirror_mode": {
    "name": "ipython",
    "version": 3
   },
   "file_extension": ".py",
   "mimetype": "text/x-python",
   "name": "python",
   "nbconvert_exporter": "python",
   "pygments_lexer": "ipython3",
   "version": "3.10.12"
  }
 },
 "nbformat": 4,
 "nbformat_minor": 5
}
