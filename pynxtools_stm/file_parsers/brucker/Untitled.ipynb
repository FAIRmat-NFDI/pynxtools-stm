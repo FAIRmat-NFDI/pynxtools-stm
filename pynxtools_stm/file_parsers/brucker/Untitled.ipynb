{
 "cells": [
  {
   "cell_type": "code",
   "execution_count": 1,
   "id": "3222f19e-6e90-45f5-aa71-da68cdc3666b",
   "metadata": {},
   "outputs": [],
   "source": [
    "file = \"/home/rubel/NOMAD-FAIRmat/STSfolder/SPM_from_tamas/VGEP-15m-.0_00000_modified_with_tamash.spm\""
   ]
  },
  {
   "cell_type": "code",
   "execution_count": 14,
   "id": "b4fa59c5-b7db-4bc2-89d1-2ce6aa94af1c",
   "metadata": {},
   "outputs": [],
   "source": [
    "class Bruker:\n",
    "    \"\"\"\n",
    "    Class to handle SPM images recorded by a Bruker AFM\n",
    "    \"\"\"\n",
    "\n",
    "    def __init__(self, path):\n",
    "        self.path = path\n",
    "        # After with the parent pat the leaf key will be added.\n",
    "        parent_key = \"\"\n",
    "\n",
    "        # Last part of the administrative path\n",
    "        last_admin_key_order = [\"\", 0]\n",
    "        all_metadata_collected = False\n",
    "        got_leaf_key = False\n",
    "\n",
    "        self.parsed_data: dict[str, Any]  = {}\n",
    "        with open(self.path, \"rb\") as file:\n",
    "            self.layers = []\n",
    "            self.scanners = []\n",
    "            mode = \"\"\n",
    "            while True:\n",
    "                line = file.readline().rstrip().replace(b\"\\\\\", b\"\")\n",
    "                if line == b\"*Ciao image list\":\n",
    "                    self.layers.append({})\n",
    "                    mode = \"Image\"\n",
    "                elif line == b\"*Scanner list\":\n",
    "                    self.scanners.append({})\n",
    "                    mode = \"Scanner\"\n",
    "                elif line.startswith(b\"*EC\"):\n",
    "                    mode = \"EC\"\n",
    "                else:\n",
    "                    args = line.split(b\": \")\n",
    "                    if len(args) > 1:\n",
    "                        if mode == \"Image\":\n",
    "                            self.layers[-1][args[0]] = args[1:]\n",
    "                        elif mode == \"Scanner\":\n",
    "                            self.scanners[-1][args[0]] = args[1:]\n",
    "                    if line == b\"*File list end\":\n",
    "                        break\n",
    "\n",
    "                # Take care of the all metadata\n",
    "                line = line.decode(\"utf-8\")\n",
    "                key_val = line.split(\":\")\n",
    "\n",
    "                if len(key_val) == 2 and not key_val[1]:\n",
    "                    continue\n",
    "                if key_val[0] == \"*File list\":\n",
    "                    continue\n",
    "                if len(key_val) == 1:\n",
    "                    if got_leaf_key:\n",
    "                        got_leaf_key = False\n",
    "                        parent_key = \"\"\n",
    "                    # Track how to admistrative name like: \\*Ciao image list\n",
    "                    last_admin_key_order = ([key_val[0], 0] if last_admin_key_order[0] != key_val[0] \n",
    "                                                      else [last_admin_key_order[0], last_admin_key_order[1] + 1])\n",
    "                    \n",
    "                    # If only one administrative key is found not extension otherwise exntend the key by order\n",
    "                    parent_key = (parent_key + '/' + (key_val[0] + \"_\" + str(last_admin_key_order[1]) if last_admin_key_order[1] > 0 \n",
    "                                                                                                 else key_val[0]))\n",
    "                else:\n",
    "                    got_leaf_key = True\n",
    "                    self.parsed_data[parent_key +'/' + key_val[0]] = key_val[1]"
   ]
  },
  {
   "cell_type": "code",
   "execution_count": 15,
   "id": "e1158d3a-e353-4ffe-b442-c5b5a4342eea",
   "metadata": {},
   "outputs": [],
   "source": [
    "brk = Bruker(file, encoding='bytes')"
   ]
  },
  {
   "cell_type": "code",
   "execution_count": 79,
   "id": "9744e673-f675-4601-90d5-0adceac82bd8",
   "metadata": {},
   "outputs": [],
   "source": [
    "lines = []\n",
    "for i in brk.file.readlines()[1100:1300]:\n",
    "    lines.append(i)\n",
    "    "
   ]
  },
  {
   "cell_type": "code",
   "execution_count": 16,
   "id": "aa7a0366-daf4-4dbc-9a9c-8bd290a838c4",
   "metadata": {},
   "outputs": [],
   "source": [
    "brk.file.close()"
   ]
  },
  {
   "cell_type": "code",
   "execution_count": 17,
   "id": "4282a25c-c775-43cc-b1a7-3e7986fc76df",
   "metadata": {},
   "outputs": [
    {
     "ename": "AttributeError",
     "evalue": "'Bruker' object has no attribute 'parsed_data'",
     "output_type": "error",
     "traceback": [
      "\u001b[0;31m---------------------------------------------------------------------------\u001b[0m",
      "\u001b[0;31mAttributeError\u001b[0m                            Traceback (most recent call last)",
      "Cell \u001b[0;32mIn[17], line 1\u001b[0m\n\u001b[0;32m----> 1\u001b[0m \u001b[43mbrk\u001b[49m\u001b[38;5;241;43m.\u001b[39;49m\u001b[43mparsed_data\u001b[49m\n",
      "\u001b[0;31mAttributeError\u001b[0m: 'Bruker' object has no attribute 'parsed_data'"
     ]
    }
   ],
   "source": [
    "brk.parsed_data"
   ]
  },
  {
   "cell_type": "code",
   "execution_count": 12,
   "id": "f0f0d9e5-7d39-44a7-91dc-bf0008ab9498",
   "metadata": {},
   "outputs": [
    {
     "data": {
      "text/plain": [
       "'���=�������*�������\\x16���F�������a�������\\x1f�������:�����������V�������\\x14���s�������_�������\\x1d�������\\t���h�������%�������\\x12���p�������.�����������J�������7�������#�������\\x0f���?�������,�������\\x18���w�������4�������!�����������l���������������\\x16���u�������a�������\\x1f���}�������;�������\\'�������\\x14���r���\\x00���0�������K���{���\\t���g�������T�������@�������-�����������I�������\\x06���e�������R�������\\x0f�������������������G�������3�������\\x1f���O�������<�������(�����������D�������\\x02���a�������M�������\\x0b���i�������V�������B�������/�����������z�������f�������������������o�������,�������\\x19�������\\x05�����������\\x7f�������=�������)�����������t�������2�����������}�������:�������������������C�������/�����������L�������8�������%�����������A�������-���]�������J�������6�������\"�����������m�������+����������v���տ��c������� �������\\x0c���<���ʾ��)����������E���ӻ��\\x03����������N���۸��\\x0b�����������V������C���з��/�������\\x1c���z���ٴ��8�����������T������A�������-�����������I�������\\x07��������������\\x0e���m���̯��+�������\\x17���v���\\x04���3����������\\x7f���ݩ��<�������)���X������E�������\\x02���'"
      ]
     },
     "execution_count": 12,
     "metadata": {},
     "output_type": "execute_result"
    }
   ],
   "source": [
    "lines[-1].decode('utf-8').strip()"
   ]
  },
  {
   "cell_type": "code",
   "execution_count": null,
   "id": "d212e744-64f5-4639-a912-f8368229c218",
   "metadata": {},
   "outputs": [],
   "source": []
  },
  {
   "cell_type": "code",
   "execution_count": 126,
   "id": "28cd8fd0-f6f4-4094-bd38-5a2417894f7a",
   "metadata": {},
   "outputs": [
    {
     "ename": "AttributeError",
     "evalue": "'str' object has no attribute 'decode'",
     "output_type": "error",
     "traceback": [
      "\u001b[0;31m---------------------------------------------------------------------------\u001b[0m",
      "\u001b[0;31mAttributeError\u001b[0m                            Traceback (most recent call last)",
      "Cell \u001b[0;32mIn[126], line 1\u001b[0m\n\u001b[0;32m----> 1\u001b[0m \u001b[43mx\u001b[49m\u001b[38;5;241;43m.\u001b[39;49m\u001b[43mdecode\u001b[49m() \u001b[38;5;241m==\u001b[39m \u001b[38;5;124m'\u001b[39m\u001b[38;5;124mhello\u001b[39m\u001b[38;5;124m'\u001b[39m\n",
      "\u001b[0;31mAttributeError\u001b[0m: 'str' object has no attribute 'decode'"
     ]
    }
   ],
   "source": [
    "x.decode() == 'hello'"
   ]
  },
  {
   "cell_type": "code",
   "execution_count": null,
   "id": "034279c5-cc36-4086-92d0-a37334a2d92b",
   "metadata": {},
   "outputs": [],
   "source": []
  },
  {
   "cell_type": "code",
   "execution_count": 111,
   "id": "591434d8-259a-428b-8aef-8096e45ecdf1",
   "metadata": {},
   "outputs": [
    {
     "data": {
      "text/plain": [
       "b'\\xff\\xfe\\xe9\\x00'"
      ]
     },
     "execution_count": 111,
     "metadata": {},
     "output_type": "execute_result"
    }
   ],
   "source": [
    "\"é\".encode(\"utf-16\")"
   ]
  },
  {
   "cell_type": "code",
   "execution_count": 13,
   "id": "eadd7a72-aa40-43a1-8d1e-1a2695b929ce",
   "metadata": {},
   "outputs": [
    {
     "data": {
      "text/plain": [
       "['kjl']"
      ]
     },
     "execution_count": 13,
     "metadata": {},
     "output_type": "execute_result"
    }
   ],
   "source": [
    "x = \"kjl\"\n",
    "x.split('lll')"
   ]
  },
  {
   "cell_type": "code",
   "execution_count": 115,
   "id": "25ac0153-841d-4ccb-8c31-62ffa6441985",
   "metadata": {},
   "outputs": [],
   "source": [
    "import encodings"
   ]
  },
  {
   "cell_type": "code",
   "execution_count": null,
   "id": "92302b6b-ca66-4cfb-b03e-a4e83085ed8a",
   "metadata": {},
   "outputs": [],
   "source": []
  }
 ],
 "metadata": {
  "kernelspec": {
   "display_name": "Python 3 (ipykernel)",
   "language": "python",
   "name": "python3"
  },
  "language_info": {
   "codemirror_mode": {
    "name": "ipython",
    "version": 3
   },
   "file_extension": ".py",
   "mimetype": "text/x-python",
   "name": "python",
   "nbconvert_exporter": "python",
   "pygments_lexer": "ipython3",
   "version": "3.10.12"
  }
 },
 "nbformat": 4,
 "nbformat_minor": 5
}
